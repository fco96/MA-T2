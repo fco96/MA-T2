{
 "cells": [
  {
   "cell_type": "markdown",
   "metadata": {},
   "source": [
    "<p style=\"font-size: 30px; line-height: 135%;}\">\n",
    "<b>3 Análisis de emociones en tweets</b>\n",
    "</p>"
   ]
  },
  {
   "cell_type": "code",
   "execution_count": 1,
   "metadata": {
    "collapsed": true
   },
   "outputs": [],
   "source": [
    "import pandas as pd\n",
    "import numpy as np\n",
    "from collections import Counter\n",
    "import re\n",
    "import nltk\n",
    "#nltk.download('wordnet')\n",
    "from nltk.stem.wordnet import WordNetLemmatizer\n",
    "from nltk.corpus import stopwords\n",
    "from IPython.display import display"
   ]
  },
  {
   "cell_type": "markdown",
   "metadata": {},
   "source": [
    "<p style=\"font-size: 25px; line-height: 135%;}\">\n",
    "<b>Parte 3, pregunta a</b>\n",
    "</p>"
   ]
  },
  {
   "cell_type": "code",
   "execution_count": 2,
   "metadata": {
    "collapsed": false
   },
   "outputs": [
    {
     "data": {
      "text/html": [
       "<div>\n",
       "<table border=\"1\" class=\"dataframe\">\n",
       "  <thead>\n",
       "    <tr style=\"text-align: right;\">\n",
       "      <th></th>\n",
       "      <th>tweet_id</th>\n",
       "      <th>sentiment</th>\n",
       "      <th>author</th>\n",
       "      <th>content</th>\n",
       "    </tr>\n",
       "  </thead>\n",
       "  <tbody>\n",
       "    <tr>\n",
       "      <th>0</th>\n",
       "      <td>1956967341</td>\n",
       "      <td>empty</td>\n",
       "      <td>xoshayzers</td>\n",
       "      <td>@tiffanylue i know  i was listenin to bad habit earlier and i started freakin at his part =[</td>\n",
       "    </tr>\n",
       "    <tr>\n",
       "      <th>1</th>\n",
       "      <td>1956967666</td>\n",
       "      <td>sadness</td>\n",
       "      <td>wannamama</td>\n",
       "      <td>Layin n bed with a headache  ughhhh...waitin on your call...</td>\n",
       "    </tr>\n",
       "    <tr>\n",
       "      <th>2</th>\n",
       "      <td>1956967696</td>\n",
       "      <td>sadness</td>\n",
       "      <td>coolfunky</td>\n",
       "      <td>Funeral ceremony...gloomy friday...</td>\n",
       "    </tr>\n",
       "    <tr>\n",
       "      <th>3</th>\n",
       "      <td>1956967789</td>\n",
       "      <td>enthusiasm</td>\n",
       "      <td>czareaquino</td>\n",
       "      <td>wants to hang out with friends SOON!</td>\n",
       "    </tr>\n",
       "    <tr>\n",
       "      <th>4</th>\n",
       "      <td>1956968416</td>\n",
       "      <td>neutral</td>\n",
       "      <td>xkilljoyx</td>\n",
       "      <td>@dannycastillo We want to trade with someone who has Houston tickets, but no one will.</td>\n",
       "    </tr>\n",
       "  </tbody>\n",
       "</table>\n",
       "</div>"
      ],
      "text/plain": [
       "     tweet_id   sentiment       author  \\\n",
       "0  1956967341       empty   xoshayzers   \n",
       "1  1956967666     sadness    wannamama   \n",
       "2  1956967696     sadness    coolfunky   \n",
       "3  1956967789  enthusiasm  czareaquino   \n",
       "4  1956968416     neutral    xkilljoyx   \n",
       "\n",
       "                                                                                        content  \n",
       "0  @tiffanylue i know  i was listenin to bad habit earlier and i started freakin at his part =[  \n",
       "1                                  Layin n bed with a headache  ughhhh...waitin on your call...  \n",
       "2                                                           Funeral ceremony...gloomy friday...  \n",
       "3                                                          wants to hang out with friends SOON!  \n",
       "4        @dannycastillo We want to trade with someone who has Houston tickets, but no one will.  "
      ]
     },
     "metadata": {},
     "output_type": "display_data"
    },
    {
     "name": "stdout",
     "output_type": "stream",
     "text": [
      "(40000, 4)\n",
      "Existen 13 clases\n",
      "Counter({'neutral': 8638, 'worry': 8459, 'happiness': 5209, 'sadness': 5165, 'love': 3842, 'surprise': 2187, 'fun': 1776, 'relief': 1526, 'hate': 1323, 'empty': 827, 'enthusiasm': 759, 'boredom': 179, 'anger': 110})\n"
     ]
    }
   ],
   "source": [
    "df = pd.read_csv('./text_emotion.csv')\n",
    "pd.options.display.max_colwidth = 150\n",
    "display(df.head(5))\n",
    "\n",
    "print(df.shape)\n",
    "print(\"Existen %i clases\" % len(set(df.iloc[:,1])))\n",
    "print(Counter(df.iloc[:,1]))"
   ]
  },
  {
   "cell_type": "markdown",
   "metadata": {},
   "source": [
    "<p style=\"font-size: 18px; line-height: 135%;}\">\n",
    "<b>a)</b>\n",
    "El dataset está compuesto por 40000 registros, cada registro que corresponde a un tweet contiene id, autor, contenido del tweet y una clase de sentiemiento.\n",
    "Existe un total de 13 clases.\n",
    "</p>"
   ]
  },
  {
   "cell_type": "markdown",
   "metadata": {},
   "source": [
    "<p style=\"font-size: 25px; line-height: 135%;}\">\n",
    "<b>Parte 3, pregunta c</b>\n",
    "</p>"
   ]
  },
  {
   "cell_type": "code",
   "execution_count": 3,
   "metadata": {
    "collapsed": true
   },
   "outputs": [],
   "source": [
    "for i in range(len(df.index)):\n",
    "    df.ix[i,3] = df.iloc[i,3].lower()\n",
    "    df.ix[i,3] = re.sub('[^\\w]', ' ', df.iloc[i,3])\n",
    "    df.ix[i,3] = re.sub(r' +' ,' ', df.iloc[i,3])\n",
    "    df.ix[i,3] = re.sub(r'^ +' ,'', df.iloc[i,3])\n",
    "\n",
    "stops = set(stopwords.words('english'))\n",
    "split_content = [line.split() for line in df.iloc[:,3]]\n",
    "lemma = WordNetLemmatizer()\n",
    "for i in range(len(df.index)):\n",
    "    aux = [lemma.lemmatize(word) for word in split_content[i]]\n",
    "    df.iloc[i,3] = ' '.join([word for word in aux if word not in stops])"
   ]
  },
  {
   "cell_type": "markdown",
   "metadata": {},
   "source": [
    "<p style=\"font-size: 18px; line-height: 135%;}\">\n",
    "<b>c)</b>\n",
    "Para el preprocesamiento se eliminan puntuciones y simbolos, además de hacer una lematización para las palabras. Más adelante al crear 'bag of words' con la función countervectorizer se eliminan las palabras que aparecen menos de 5 veces en el total de tweet con el objeto de eliminar aquellas palabras mal escritas y nombres propios que no suelen repetirse y no tienen incidencia en la polaridad del tweet.\n",
    "</p>"
   ]
  },
  {
   "cell_type": "markdown",
   "metadata": {},
   "source": [
    "<p style=\"font-size: 25px; line-height: 135%;}\">\n",
    "<b>Parte 3, pregunta b y d</b>\n",
    "</p>"
   ]
  },
  {
   "cell_type": "code",
   "execution_count": 5,
   "metadata": {
    "collapsed": true
   },
   "outputs": [],
   "source": [
    "df_feliz = df[(df['sentiment'] == 'happiness')].copy()\n",
    "df_triste = df[(df['sentiment'] == 'sadness')].copy()\n",
    "\n",
    "clase_feliz = [1 for x in range(len(df_feliz.index))]\n",
    "clase_triste = [-1 for x in range(len(df_triste.index))]\n",
    "\n",
    "clase_feliz = pd.Series(clase_feliz)\n",
    "clase_triste = pd.Series(clase_triste)\n",
    "\n",
    "df_feliz['clase'] = clase_feliz.values\n",
    "df_triste['clase'] = clase_triste.values\n",
    "\n",
    "df_train = pd.DataFrame(columns = df_feliz.columns)\n",
    "df_test = pd.DataFrame(columns = df_feliz.columns)\n",
    "\n",
    "msk = np.random.rand(len(df_feliz)) < 0.8\n",
    "df_train = df_train.append(df_feliz[msk], ignore_index=True)\n",
    "df_test = df_test.append(df_feliz[~msk], ignore_index=True)\n",
    "\n",
    "msk = np.random.rand(len(df_triste)) < 0.8\n",
    "df_train = df_train.append(df_triste[msk], ignore_index=True)\n",
    "df_test = df_test.append(df_triste[~msk], ignore_index=True)\n",
    "\n",
    "df_test['clase'] = df_test[\"clase\"].astype(int)\n",
    "df_train['clase'] = df_train[\"clase\"].astype(int)\n",
    "\n",
    "#display(df_test.head())"
   ]
  },
  {
   "cell_type": "markdown",
   "metadata": {},
   "source": [
    "<p style=\"font-size: 18px; line-height: 135%;}\">\n",
    "<b>b) y  d)</b>\n",
    "En esta parte para evitar el desbalanceo que podría generar una mala máquina en casos como las que corresponden a árboles, se toman solo dos clases que son las de felicidad y tristeza. Se usan solo estás dos clases ya que además de poseer casi la misma cantidad de datos son espcialmente útiles como clasificación binaria de positivo y negativo si se considera que tristeza puede traducirse como no felicidad, por otro lado es díficil incluir todas las 13 clases del dataset y clasificarlas de forma binaria ya que son sentimientos muy variados, además se tiene la clase neutral que no corresponde a una polaridad, es decir, no es una opinión/sentimiento si no que más bien corresponden a comentarios.\n",
    "\n",
    "Notar como se dividen los dataset de pruebas, se busca que quede balanceado también en el sentido de la cantidad de elemetnos de cada clase en el set de train y test. Además es más justo la valoración de las métricas por clase\n",
    "</p>"
   ]
  },
  {
   "cell_type": "markdown",
   "metadata": {},
   "source": [
    "<p style=\"font-size: 25px; line-height: 135%;}\">\n",
    "<b>Parte 3, pregunta e</b>\n",
    "</p>"
   ]
  },
  {
   "cell_type": "code",
   "execution_count": 6,
   "metadata": {
    "collapsed": true
   },
   "outputs": [],
   "source": [
    "from sklearn.feature_extraction.text import CountVectorizer\n",
    "cv = CountVectorizer(min_df = 5)\n",
    "cv_train = cv.fit_transform(df_train.iloc[:, 3])\n",
    "\n",
    "cv_test = cv.transform(df_test.iloc[:, 3])\n",
    "#print(cv.get_feature_names())"
   ]
  },
  {
   "cell_type": "code",
   "execution_count": 7,
   "metadata": {
    "collapsed": false
   },
   "outputs": [
    {
     "data": {
      "image/png": "[encoded data removed]",
      "text/plain": [
       "<matplotlib.figure.Figure at 0x137a5668>"
      ]
     },
     "metadata": {},
     "output_type": "display_data"
    }
   ],
   "source": [
    "from sklearn.decomposition import PCA\n",
    "import matplotlib.pyplot as plt\n",
    "d=2\n",
    "pca_model = PCA(n_components=d)\n",
    "pca_model.fit(cv_train.toarray())\n",
    "X_pca_train = pca_model.transform(cv_train.toarray())\n",
    "\n",
    "#Se procede a gráficar los elementos\n",
    "plt.figure(figsize = (16, 9))\n",
    "\n",
    "for i in range(len(X_pca_train)):\n",
    "    if df_train.iloc[i,4] == -1:\n",
    "        p1 = plt.scatter(X_pca_train[i,0], X_pca_train[i,1], s=50, c = \"limegreen\")\n",
    "    elif df_train.iloc[i,4] == 1:\n",
    "        p2 = plt.scatter(X_pca_train[i,0], X_pca_train[i,1], s=50, c = \"red\")\n",
    "\n",
    "plt.legend([p1, p2], [\"Triste\", \"Feliz\"], prop={'size': 20})\n",
    "        \n",
    "plt.xlabel(\"$X1$\")\n",
    "plt.ylabel(\"$X2$\")\n",
    "plt.title(\"Proyección de la data de entrenamiento con PCA, $d = \"+str(d)+\"$\", size = 20)\n",
    "plt.show()"
   ]
  },
  {
   "cell_type": "markdown",
   "metadata": {},
   "source": [
    "<p style=\"font-size: 18px; line-height: 135%;}\">\n",
    "<b>e)</b>\n",
    "Para construir el modelo bag of words se utiliza la función CounterVectorizer incluida en el paquete sklearn, se incluye una tolerancia de palabras admitidas con un mínimo de 5 apariciones. Hacer lo anterior es importante por dos motivos, el primero es que así se evita incluir palabras que están mal escritas o nombres de cuentas de twitter citados en los mismo tweets, las cuales no tendrían una mayor incidencia en el resultado de las predicciones, además como segundo y resultado de eliminar estás palabras 'basura' se logra disminuir la dimensionalidad lo que se traduce en desempeño computacional de la máquina.\n",
    "\n",
    "Para tener una vaga idea de como se distriuyen los datos se usa PCA para poder visualizarlos en un gráfico 2D\n",
    "</p>"
   ]
  },
  {
   "cell_type": "markdown",
   "metadata": {},
   "source": [
    "<p style=\"font-size: 25px; line-height: 135%;}\">\n",
    "<b>Parte 3, pregunta f y g</b>\n",
    "</p>"
   ]
  },
  {
   "cell_type": "code",
   "execution_count": 8,
   "metadata": {
    "collapsed": false
   },
   "outputs": [
    {
     "data": {
      "text/plain": [
       "RandomForestClassifier(bootstrap=True, class_weight=None, criterion='gini',\n",
       "            max_depth=None, max_features='auto', max_leaf_nodes=None,\n",
       "            min_impurity_split=1e-07, min_samples_leaf=1,\n",
       "            min_samples_split=2, min_weight_fraction_leaf=0.0,\n",
       "            n_estimators=10, n_jobs=1, oob_score=False, random_state=None,\n",
       "            verbose=0, warm_start=False)"
      ]
     },
     "execution_count": 8,
     "metadata": {},
     "output_type": "execute_result"
    }
   ],
   "source": [
    "from sklearn.svm import SVC\n",
    "from sklearn.linear_model import LogisticRegression\n",
    "from sklearn.discriminant_analysis import QuadraticDiscriminantAnalysis\n",
    "from sklearn.discriminant_analysis import LinearDiscriminantAnalysis\n",
    "from sklearn.naive_bayes import MultinomialNB\n",
    "from sklearn.naive_bayes import BernoulliNB\n",
    "from sklearn.ensemble import RandomForestClassifier\n",
    "\n",
    "m_svm = SVC()\n",
    "m_svm.set_params(kernel = 'linear')\n",
    "\n",
    "m_svmRBF = SVC()\n",
    "m_svmRBF.set_params(kernel = 'rbf')\n",
    "\n",
    "verdad = df_train.iloc[:, 4]\n",
    "\n",
    "m_svm.fit(cv_train, verdad)\n",
    "m_svmRBF.fit(cv_train, verdad)\n",
    "\n",
    "m_lr = LogisticRegression()\n",
    "m_lr.fit(cv_train, verdad)\n",
    "\n",
    "m_qda = QuadraticDiscriminantAnalysis()\n",
    "#m_qda.fit(cv_train.toarray(), df_train.iloc[:, 4])\n",
    "\n",
    "m_lda = LinearDiscriminantAnalysis()\n",
    "m_lda.fit(cv_train.toarray(), verdad)\n",
    "\n",
    "m_mnb = MultinomialNB()\n",
    "m_mnb.fit(cv_train, verdad)\n",
    "\n",
    "m_bnb = BernoulliNB()\n",
    "m_bnb.fit(cv_train, verdad)\n",
    "\n",
    "m_rfc = RandomForestClassifier()\n",
    "m_rfc.fit(cv_train, verdad)"
   ]
  },
  {
   "cell_type": "code",
   "execution_count": 9,
   "metadata": {
    "collapsed": true
   },
   "outputs": [],
   "source": [
    "from sklearn.metrics import classification_report\n",
    "def score_the_model(model,x,y,xt,yt):\n",
    "    acc_tr = model.score(x,y)\n",
    "    acc_test = model.score(xt[:-1],yt[:-1])\n",
    "    print(\"Training Accuracy: %f\" % (acc_tr))\n",
    "    print(\"Test Accuracy: %f\" % (acc_test))\n",
    "    print(\"Detailed Analysis Testing Results ...\")\n",
    "    print(classification_report(yt, model.predict(xt), target_names=['+','-']))\n",
    "    acc_train_all.append(acc_tr)\n",
    "    acc_test_all.append(acc_test)"
   ]
  },
  {
   "cell_type": "code",
   "execution_count": 10,
   "metadata": {
    "collapsed": false,
    "scrolled": true
   },
   "outputs": [
    {
     "name": "stdout",
     "output_type": "stream",
     "text": [
      "Training Accuracy: 0.572222\n",
      "Test Accuracy: 0.559444\n",
      "Detailed Analysis Testing Results ...\n",
      "             precision    recall  f1-score   support\n",
      "\n",
      "          +       0.94      0.14      0.24      1056\n",
      "          -       0.53      0.99      0.69      1031\n",
      "\n",
      "avg / total       0.73      0.56      0.46      2087\n",
      "\n",
      "Training Accuracy: 0.881380\n",
      "Test Accuracy: 0.785235\n",
      "Detailed Analysis Testing Results ...\n",
      "             precision    recall  f1-score   support\n",
      "\n",
      "          +       0.79      0.79      0.79      1056\n",
      "          -       0.78      0.78      0.78      1031\n",
      "\n",
      "avg / total       0.79      0.79      0.79      2087\n",
      "\n",
      "Training Accuracy: 0.868348\n",
      "Test Accuracy: 0.797220\n",
      "Detailed Analysis Testing Results ...\n",
      "             precision    recall  f1-score   support\n",
      "\n",
      "          +       0.81      0.79      0.80      1056\n",
      "          -       0.79      0.81      0.80      1031\n",
      "\n",
      "avg / total       0.80      0.80      0.80      2087\n",
      "\n",
      "Training Accuracy: 0.872330\n",
      "Test Accuracy: 0.777085\n",
      "Detailed Analysis Testing Results ...\n",
      "             precision    recall  f1-score   support\n",
      "\n",
      "          +       0.79      0.77      0.78      1056\n",
      "          -       0.77      0.79      0.78      1031\n",
      "\n",
      "avg / total       0.78      0.78      0.78      2087\n",
      "\n",
      "Training Accuracy: 0.838180\n",
      "Test Accuracy: 0.790508\n",
      "Detailed Analysis Testing Results ...\n",
      "             precision    recall  f1-score   support\n",
      "\n",
      "          +       0.79      0.79      0.79      1056\n",
      "          -       0.79      0.79      0.79      1031\n",
      "\n",
      "avg / total       0.79      0.79      0.79      2087\n",
      "\n",
      "Training Accuracy: 0.841076\n",
      "Test Accuracy: 0.789070\n",
      "Detailed Analysis Testing Results ...\n",
      "             precision    recall  f1-score   support\n",
      "\n",
      "          +       0.79      0.80      0.79      1056\n",
      "          -       0.79      0.78      0.78      1031\n",
      "\n",
      "avg / total       0.79      0.79      0.79      2087\n",
      "\n",
      "Training Accuracy: 0.977314\n",
      "Test Accuracy: 0.752157\n",
      "Detailed Analysis Testing Results ...\n",
      "             precision    recall  f1-score   support\n",
      "\n",
      "          +       0.76      0.75      0.75      1056\n",
      "          -       0.75      0.75      0.75      1031\n",
      "\n",
      "avg / total       0.75      0.75      0.75      2087\n",
      "\n"
     ]
    }
   ],
   "source": [
    "acc_train_all = list()\n",
    "acc_test_all = list()\n",
    "\n",
    "score_the_model(m_svmRBF, cv_train, df_train.iloc[:,4], cv_test, df_test.iloc[:,4])\n",
    "score_the_model(m_svm, cv_train, df_train.iloc[:,4], cv_test, df_test.iloc[:,4])\n",
    "score_the_model(m_lr, cv_train, df_train.iloc[:,4], cv_test, df_test.iloc[:,4])\n",
    "score_the_model(m_lda, cv_train, df_train.iloc[:,4], cv_test, df_test.iloc[:,4])\n",
    "score_the_model(m_mnb, cv_train, df_train.iloc[:,4], cv_test, df_test.iloc[:,4])\n",
    "score_the_model(m_bnb, cv_train, df_train.iloc[:,4], cv_test, df_test.iloc[:,4])\n",
    "score_the_model(m_rfc, cv_train, df_train.iloc[:,4], cv_test, df_test.iloc[:,4])"
   ]
  },
  {
   "cell_type": "code",
   "execution_count": 11,
   "metadata": {
    "collapsed": false
   },
   "outputs": [
    {
     "data": {
      "image/png": "[encoded data removed]",
      "text/plain": [
       "<matplotlib.figure.Figure at 0x1f276978>"
      ]
     },
     "metadata": {},
     "output_type": "display_data"
    }
   ],
   "source": [
    "import matplotlib.pyplot as plt\n",
    "\n",
    "nom = list(['svm (RBF)','svm (lineal)', 'lr', 'lda', 'mnb', 'bnb', 'rfc'])\n",
    "pos = list(range(7))\n",
    "width = 0.25\n",
    "\n",
    "acc_train_all = np.array(acc_train_all)\n",
    "\n",
    "fig, ax = plt.subplots(figsize=(15,8))\n",
    "\n",
    "plt.bar(pos, acc_train_all, width)\n",
    "plt.bar([p + width for p in pos], acc_test_all, width)\n",
    "\n",
    "ax.set_ylabel('Accuracy')\n",
    "\n",
    "ax.set_xticks([p + width*0.5 for p in pos])\n",
    "ax.set_xticklabels(nom)\n",
    "\n",
    "plt.ylim([0,1])\n",
    "plt.legend(['Train acc', 'Test acc'], loc='upper left')\n",
    "plt.grid()\n",
    "\n",
    "plt.show()"
   ]
  },
  {
   "cell_type": "markdown",
   "metadata": {},
   "source": [
    "<p style=\"font-size: 18px; line-height: 135%;}\">\n",
    "<b>f)</b>\n",
    "De los modelos utilizados con sus parámetros por defecto, el que presenta un peor comportamiento es SVM, mientras que el resto de las 4 máquinas tienen un desempeño similar alcanzando una cota para la exactitud que llega al 80% en las prediciones para el set de pruebas. Notar como la máquina de árboles de decisión en la 'accuracy' para el set de entrenamiento es cercana al 100%, esto es explicable si se considera que el algoritmo hizo las suficientes operaciones y tiene una cantidad de hojas justas para ajustar el modelo de excelente manera a los datos con los que fue entrenado.\n",
    "</p>"
   ]
  },
  {
   "cell_type": "markdown",
   "metadata": {},
   "source": [
    "<p style=\"font-size: 18px; line-height: 135%;}\">\n",
    "<b>g)</b>\n",
    "Las métricas corresponden a:<br><br>\n",
    "<b>Accuracy:</b> Es la exactitud, es decir, los resultados que fueron correctos sobre el total de resultados. \n",
    "<br>\n",
    "<b>Precision:</b> La precision se refiere a la relación de verdaderos positivos sobre la clase positiva. Por ejemplo para el caso de la clase positiva, la métrica evaluará todos los resultados correctos de la clase positiva todos los resuldos predichos de clase positiva independiente de si fueron correctos.\n",
    "<br>\n",
    "<b>Recall:</b> Similar a precision, hace referencia a la relación de verdaderos positivos sobre el total de verdaderos positivos y falsos negativos. Por ejemplo para el caso de la clase positiva, la métrica evaluará todos los resultados correctos de la clase positiva sobre la cantidad de resultados correctos posibles.\n",
    "<br>\n",
    "<b>F1-Score:</b> Métrica desde 0 a 1, siendo 1 el mejor. Es una relación mesurada que incluye precision y recall.\n",
    "<br><br>\n",
    "Si huebiera que tomar una decisioón sobre cual métrica utilizar cuando se quiera mostrar a alguien sin conocimientos cual es la mejor máquina, sin duda la mejor métrica para el desempeño es la 'accuracy'. Es de más fácil interpretación siendo esta en que porcentaje de casos para los que se probo la máquina es exitosa."
   ]
  },
  {
   "cell_type": "markdown",
   "metadata": {},
   "source": [
    "<p style=\"font-size: 25px; line-height: 135%;}\">\n",
    "<b>Parte 3, pregunta i</b>\n",
    "</p>"
   ]
  },
  {
   "cell_type": "code",
   "execution_count": 37,
   "metadata": {
    "collapsed": true
   },
   "outputs": [],
   "source": [
    "df_neutral = df[(df['sentiment'] == 'neutral')].copy()\n",
    "df_worry = df[(df['sentiment'] == 'worry')].copy()\n",
    "df_happiness = df[(df['sentiment'] == 'happiness')].copy()\n",
    "df_sadness = df[(df['sentiment'] == 'sadness')].copy()\n",
    "df_love = df[(df['sentiment'] == 'love')].copy()\n",
    "df_surprise = df[(df['sentiment'] == 'surprise')].copy()\n",
    "df_fun = df[(df['sentiment'] == 'fun')].copy()\n",
    "df_relief = df[(df['sentiment'] == 'relief')].copy()\n",
    "df_hate = df[(df['sentiment'] == 'hate')].copy()\n",
    "df_empty = df[(df['sentiment'] == 'empty')].copy()\n",
    "df_enthusiasm = df[(df['sentiment'] == 'enthusiasm')].copy()\n",
    "df_boredom = df[(df['sentiment'] == 'boredom')].copy()\n",
    "df_anger = df[(df['sentiment'] == 'anger')].copy()\n",
    "\n",
    "clase_neutral = [0 for x in range(len(df_neutral.index))]\n",
    "clase_worry = [1 for x in range(len(df_worry.index))]\n",
    "clase_happiness = [2 for x in range(len(df_happiness.index))]\n",
    "clase_sadness = [3 for x in range(len(df_sadness.index))]\n",
    "clase_love = [4 for x in range(len(df_love.index))]\n",
    "clase_surprise = [5 for x in range(len(df_surprise.index))]\n",
    "clase_fun = [6 for x in range(len(df_fun.index))]\n",
    "clase_relief = [7 for x in range(len(df_relief.index))]\n",
    "clase_hate = [8 for x in range(len(df_hate.index))]\n",
    "clase_empty = [9 for x in range(len(df_empty.index))]\n",
    "clase_enthusiasm = [10 for x in range(len(df_enthusiasm.index))]\n",
    "clase_boredom = [13 for x in range(len(df_boredom.index))]\n",
    "clase_anger = [14 for x in range(len(df_anger.index))]\n",
    "\n",
    "clase_neutral = pd.Series(clase_neutral)\n",
    "clase_worry = pd.Series(clase_worry)\n",
    "clase_happiness = pd.Series(clase_happiness)\n",
    "clase_sadness = pd.Series(clase_sadness)\n",
    "clase_love = pd.Series(clase_love)\n",
    "clase_surprise = pd.Series(clase_surprise)\n",
    "clase_fun = pd.Series(clase_fun)\n",
    "clase_relief = pd.Series(clase_relief)\n",
    "clase_hate = pd.Series(clase_hate)\n",
    "clase_empty = pd.Series(clase_empty)\n",
    "clase_enthusiasm = pd.Series(clase_enthusiasm)\n",
    "clase_boredom = pd.Series(clase_boredom)\n",
    "clase_anger = pd.Series(clase_anger)\n",
    "\n",
    "df_neutral['clase'] = clase_neutral.values\n",
    "df_worry['clase'] = clase_worry.values\n",
    "df_happiness['clase'] = clase_happiness.values\n",
    "df_sadness['clase'] = clase_sadness.values\n",
    "df_love['clase'] = clase_love.values\n",
    "df_surprise['clase'] = clase_surprise.values\n",
    "df_fun['clase'] = clase_fun.values\n",
    "df_relief['clase'] = clase_relief.values\n",
    "df_hate['clase'] = clase_hate.values\n",
    "df_empty['clase'] = clase_empty.values\n",
    "df_enthusiasm['clase'] = clase_enthusiasm.values\n",
    "df_boredom['clase'] = clase_boredom.values\n",
    "df_anger['clase'] = clase_anger.values\n",
    "\n",
    "df_train_2 = pd.DataFrame(columns = df_neutral.columns)\n",
    "df_test_2 = pd.DataFrame(columns = df_neutral.columns)\n",
    "\n",
    "msk = np.random.rand(len(df_neutral)) < 0.8\n",
    "#df_train_2 = df_train_2.append(df_neutral[msk], ignore_index=True)\n",
    "#df_test_2 = df_test_2.append(df_neutral[~msk], ignore_index=True)\n",
    "\n",
    "msk = np.random.rand(len(df_worry)) < 0.8\n",
    "#df_train_2 = df_train_2.append(df_worry[msk], ignore_index=True)\n",
    "#df_test_2 = df_test_2.append(df_worry[~msk], ignore_index=True)\n",
    "\n",
    "msk = np.random.rand(len(df_happiness)) < 0.8\n",
    "#df_train_2 = df_train_2.append(df_happiness[msk], ignore_index=True)\n",
    "#df_test_2 = df_test_2.append(df_happiness[~msk], ignore_index=True)\n",
    "\n",
    "msk = np.random.rand(len(df_sadness)) < 0.8\n",
    "#df_train_2 = df_train_2.append(df_sadness[msk], ignore_index=True)\n",
    "#df_test_2 = df_test_2.append(df_sadness[~msk], ignore_index=True)\n",
    "\n",
    "msk = np.random.rand(len(df_love)) < 0.8\n",
    "df_train_2 = df_train_2.append(df_love[msk], ignore_index=True)\n",
    "df_test_2 = df_test_2.append(df_love[~msk], ignore_index=True)\n",
    "\n",
    "msk = np.random.rand(len(df_surprise)) < 0.8\n",
    "df_train_2 = df_train_2.append(df_surprise[msk], ignore_index=True)\n",
    "df_test_2 = df_test_2.append(df_surprise[~msk], ignore_index=True)\n",
    "\n",
    "msk = np.random.rand(len(df_fun)) < 0.8\n",
    "df_train_2 = df_train_2.append(df_fun[msk], ignore_index=True)\n",
    "df_test_2 = df_test_2.append(df_fun[~msk], ignore_index=True)\n",
    "\n",
    "msk = np.random.rand(len(df_relief)) < 0.8\n",
    "df_train_2 = df_train_2.append(df_relief[msk], ignore_index=True)\n",
    "df_test_2 = df_test_2.append(df_relief[~msk], ignore_index=True)\n",
    "\n",
    "msk = np.random.rand(len(df_hate)) < 0.8\n",
    "#df_train_2 = df_train_2.append(df_hate[msk], ignore_index=True)\n",
    "#df_test_2 = df_test_2.append(df_hate[~msk], ignore_index=True)\n",
    "\n",
    "msk = np.random.rand(len(df_empty)) < 0.8\n",
    "#df_train_2 = df_train_2.append(df_empty[msk], ignore_index=True)\n",
    "#df_test_2 = df_test_2.append(df_empty[~msk], ignore_index=True)\n",
    "\n",
    "msk = np.random.rand(len(df_enthusiasm)) < 0.8\n",
    "#df_train_2 = df_train_2.append(df_enthusiasm[msk], ignore_index=True)\n",
    "#df_test_2 = df_test_2.append(df_enthusiasm[~msk], ignore_index=True)\n",
    "\n",
    "msk = np.random.rand(len(df_boredom)) < 0.8\n",
    "#df_train_2 = df_train_2.append(df_boredom[msk], ignore_index=True)\n",
    "#df_test_2 = df_test_2.append(df_boredom[~msk], ignore_index=True)\n",
    "\n",
    "msk = np.random.rand(len(df_anger)) < 0.8\n",
    "#df_train_2 = df_train_2.append(df_anger[msk], ignore_index=True)\n",
    "#df_test_2 = df_test_2.append(df_anger[~msk], ignore_index=True)\n",
    "\n",
    "df_train_2[\"clase\"] = df_train_2[\"clase\"].astype(int)\n",
    "df_test_2[\"clase\"] = df_test_2[\"clase\"].astype(int)"
   ]
  },
  {
   "cell_type": "code",
   "execution_count": 38,
   "metadata": {
    "collapsed": false
   },
   "outputs": [
    {
     "name": "stdout",
     "output_type": "stream",
     "text": [
      "(1849, 5)\n"
     ]
    }
   ],
   "source": [
    "print(df_test_2.shape)"
   ]
  },
  {
   "cell_type": "markdown",
   "metadata": {},
   "source": [
    "<p style=\"font-size: 18px; line-height: 135%;}\">\n",
    "<b>h)</b>\n",
    "Igual que de la forma anterior se divide el set de tal forma que la cantidad de elementos de cierta clase que quedan en el test set es equitativa a la que queda en el trainig set (en porcentaje).\n",
    "\n",
    "Por motivos de memoria no se incluye la totalidad de clases, se quitan las dos con más elementos que son neutral y worry\n",
    "\n",
    "Con el mismo objeto de reducir el gasto de memoria y tiempo en correr se seleccionan solo ciertas clases (4 en total, hubiera sido bueno probar a reducir la cantidad de elementos por clase y dejar los datos balanceados)\n",
    "</p>"
   ]
  },
  {
   "cell_type": "markdown",
   "metadata": {},
   "source": [
    "<p style=\"font-size: 25px; line-height: 135%;}\">\n",
    "<b>Parte 3, pregunta j</b>\n",
    "</p>"
   ]
  },
  {
   "cell_type": "code",
   "execution_count": 39,
   "metadata": {
    "collapsed": false
   },
   "outputs": [
    {
     "name": "stderr",
     "output_type": "stream",
     "text": [
      "C:\\Users\\Daniel\\Anaconda3\\lib\\site-packages\\sklearn\\discriminant_analysis.py:387: UserWarning: Variables are collinear.\n",
      "  warnings.warn(\"Variables are collinear.\")\n"
     ]
    }
   ],
   "source": [
    "cv = CountVectorizer(min_df = 5)\n",
    "cv_train_2 = cv.fit_transform(df_train_2.iloc[:, 3])\n",
    "cv_test_2 = cv.transform(df_test_2.iloc[:, 3])\n",
    "\n",
    "acc_train_all = list()\n",
    "acc_test_all = list()\n",
    "\n",
    "m_mnb = BernoulliNB()\n",
    "m_mnb.fit(cv_train_2, df_train_2.iloc[:, 4])\n",
    "acc_train_all.append(m_mnb.score(cv_train_2, df_train_2.iloc[:,4]))\n",
    "acc_test_all.append(m_mnb.score(cv_test_2, df_test_2.iloc[:, 4]))\n",
    "\n",
    "m_lda = LinearDiscriminantAnalysis()\n",
    "m_lda.fit(cv_train_2.toarray(), df_train_2.iloc[:, 4])\n",
    "acc_train_all.append(m_lda.score(cv_train_2, df_train_2.iloc[:,4]))\n",
    "acc_test_all.append(m_lda.score(cv_test_2, df_test_2.iloc[:, 4]))\n",
    "\n",
    "m_lr = LogisticRegression()\n",
    "m_lr.set_params(multi_class='multinomial', solver='newton-cg')\n",
    "m_lr.fit(cv_train_2.toarray(), df_train_2.iloc[:, 4])\n",
    "acc_train_all.append(m_lr.score(cv_train_2, df_train_2.iloc[:,4]))\n",
    "acc_test_all.append(m_lr.score(cv_test_2, df_test_2.iloc[:, 4]))\n",
    "\n",
    "m_rfc = RandomForestClassifier()\n",
    "m_rfc.fit(cv_train_2.toarray(), df_train_2.iloc[:, 4])\n",
    "acc_train_all.append(m_rfc.score(cv_train_2, df_train_2.iloc[:,4]))\n",
    "acc_test_all.append(m_rfc.score(cv_test_2, df_test_2.iloc[:, 4]))"
   ]
  },
  {
   "cell_type": "code",
   "execution_count": 40,
   "metadata": {
    "collapsed": false
   },
   "outputs": [
    {
     "data": {
      "image/png": "[encoded data removed]",
      "text/plain": [
       "<matplotlib.figure.Figure at 0x2c985be0>"
      ]
     },
     "metadata": {},
     "output_type": "display_data"
    }
   ],
   "source": [
    "import matplotlib.pyplot as plt\n",
    "\n",
    "nom = list(['bnb', 'lda', 'lr', 'rfc'])\n",
    "pos = list(range(4))\n",
    "width = 0.25\n",
    "\n",
    "acc_train_all = np.array(acc_train_all)\n",
    "\n",
    "fig, ax = plt.subplots(figsize=(15,8))\n",
    "\n",
    "plt.bar(pos, acc_train_all, width)\n",
    "plt.bar([p + width for p in pos], acc_test_all, width)\n",
    "\n",
    "ax.set_ylabel('Accuracy')\n",
    "\n",
    "ax.set_xticks([p + width*0.5 for p in pos])\n",
    "ax.set_xticklabels(nom)\n",
    "\n",
    "plt.ylim([0,1])\n",
    "plt.legend(['Train acc', 'Test acc'], loc='upper left')\n",
    "plt.grid()\n",
    "\n",
    "plt.show()"
   ]
  },
  {
   "cell_type": "markdown",
   "metadata": {},
   "source": [
    "<p style=\"font-size: 18px; line-height: 135%;}\">\n",
    "<b>j)</b>\n",
    "Para este caso donde se trabaja con multiples clases, se utilizan 4 diferentes máquinas las cuales se desempeñan de peor manera al ser llevadas a múltiples clases. Se observa como ocurre el mismo fénomeno para el error de entrenamiento en la máquina de árboles.\n",
    "</p>"
   ]
  },
  {
   "cell_type": "markdown",
   "metadata": {},
   "source": [
    "<p style=\"font-size: 25px; line-height: 135%;}\">\n",
    "<b>Parte 3, pregunta k</b>\n",
    "</p>"
   ]
  },
  {
   "cell_type": "code",
   "execution_count": 41,
   "metadata": {
    "collapsed": false
   },
   "outputs": [],
   "source": [
    "from sklearn.multiclass import OneVsRestClassifier\n",
    "from sklearn.multiclass import OneVsOneClassifier\n",
    "\n",
    "acc_train_all = list()\n",
    "acc_test_all = list()\n",
    "\n",
    "m_svm_ovr = OneVsRestClassifier(SVC())\n",
    "m_svm_ovr.fit(cv_train_2, df_train_2.iloc[:, 4])\n",
    "acc_train_all.append(m_svm_ovr.score(cv_train_2, df_train_2.iloc[:,4]))\n",
    "acc_test_all.append(m_svm_ovr.score(cv_test_2, df_test_2.iloc[:, 4]))\n",
    "\n",
    "m_svm_ovo = OneVsOneClassifier(SVC())\n",
    "m_svm_ovo.fit(cv_train_2, df_train_2.iloc[:, 4])\n",
    "acc_train_all.append(m_svm_ovo.score(cv_train_2, df_train_2.iloc[:,4]))\n",
    "acc_test_all.append(m_svm_ovo.score(cv_test_2, df_test_2.iloc[:, 4]))"
   ]
  },
  {
   "cell_type": "code",
   "execution_count": 42,
   "metadata": {
    "collapsed": false
   },
   "outputs": [
    {
     "data": {
      "image/png": "[encoded data removed]",
      "text/plain": [
       "<matplotlib.figure.Figure at 0x2ca56240>"
      ]
     },
     "metadata": {},
     "output_type": "display_data"
    }
   ],
   "source": [
    "nom = list(['svm_ovr', 'svm_ovo'])\n",
    "pos = list(range(2))\n",
    "width = 0.25\n",
    "\n",
    "acc_train_all = np.array(acc_train_all)\n",
    "\n",
    "fig, ax = plt.subplots(figsize=(15,8))\n",
    "\n",
    "plt.bar(pos, acc_train_all, width)\n",
    "plt.bar([p + width for p in pos], acc_test_all, width)\n",
    "\n",
    "ax.set_ylabel('Accuracy')\n",
    "\n",
    "ax.set_xticks([p + width*0.5 for p in pos])\n",
    "ax.set_xticklabels(nom)\n",
    "\n",
    "plt.ylim([0,1])\n",
    "plt.legend(['Train acc', 'Test acc'], loc='upper left')\n",
    "plt.grid()\n",
    "\n",
    "plt.show()"
   ]
  },
  {
   "cell_type": "markdown",
   "metadata": {},
   "source": [
    "<p style=\"font-size: 18px; line-height: 135%;}\">\n",
    "<b>k)</b>\n",
    "Al utilizar svm para múltiples clases extendido mediante los métodos de ovr y ovo, se da cuenta que el comportamiento es peor que los módelos evaluados anterioremente. Cuando se utiliza one-vs-one se obtienen peores resultados que con one-vs-rest. Hay que considerar como argumento de elección de enfoque el hecho de que el algoritmo ovo tiene un gran costo computacional ya que se construye una máquina para cada par de clases, mientras que ovr crea una máquina por clase, es decir este último es más barato computacionalmente.\n",
    "</p>"
   ]
  },
  {
   "cell_type": "markdown",
   "metadata": {},
   "source": [
    "<p style=\"font-size: 25px; line-height: 135%;}\">\n",
    "<b>Parte 3, pregunta l\n",
    "</b>\n",
    "</p>"
   ]
  },
  {
   "cell_type": "code",
   "execution_count": 43,
   "metadata": {
    "collapsed": true
   },
   "outputs": [],
   "source": [
    "acc_train_all = list()\n",
    "acc_test_all = list()\n",
    "\n",
    "m_lr_ovr = LogisticRegression()\n",
    "m_lr_ovr.set_params(multi_class='ovr')\n",
    "m_lr_ovr.fit(cv_train_2.toarray(), df_train_2.iloc[:, 4])\n",
    "acc_train_all.append(m_lr_ovr.score(cv_train_2, df_train_2.iloc[:,4]))\n",
    "acc_test_all.append(m_lr_ovr.score(cv_test_2, df_test_2.iloc[:, 4]))\n",
    "\n",
    "m_lr_mul = LogisticRegression()\n",
    "m_lr_mul.set_params(multi_class='multinomial', solver='newton-cg')\n",
    "m_lr_mul.fit(cv_train_2.toarray(), df_train_2.iloc[:, 4])\n",
    "acc_train_all.append(m_lr_mul.score(cv_train_2, df_train_2.iloc[:,4]))\n",
    "acc_test_all.append(m_lr_mul.score(cv_test_2, df_test_2.iloc[:, 4]))"
   ]
  },
  {
   "cell_type": "code",
   "execution_count": 44,
   "metadata": {
    "collapsed": false
   },
   "outputs": [
    {
     "data": {
      "image/png": "[encoded data removed]",
      "text/plain": [
       "<matplotlib.figure.Figure at 0x2ca70d30>"
      ]
     },
     "metadata": {},
     "output_type": "display_data"
    }
   ],
   "source": [
    "nom = list(['lr_ovr', 'lr_mul'])\n",
    "pos = list(range(2))\n",
    "width = 0.25\n",
    "\n",
    "acc_train_all = np.array(acc_train_all)\n",
    "\n",
    "fig, ax = plt.subplots(figsize=(15,8))\n",
    "\n",
    "plt.bar(pos, acc_train_all, width)\n",
    "plt.bar([p + width for p in pos], acc_test_all, width)\n",
    "\n",
    "ax.set_ylabel('Accuracy')\n",
    "\n",
    "ax.set_xticks([p + width*0.5 for p in pos])\n",
    "ax.set_xticklabels(nom)\n",
    "\n",
    "plt.ylim([0,1])\n",
    "plt.legend(['Train acc', 'Test acc'], loc='upper left')\n",
    "plt.grid()\n",
    "\n",
    "plt.show()"
   ]
  },
  {
   "cell_type": "markdown",
   "metadata": {},
   "source": [
    "<p style=\"font-size: 18px; line-height: 135%;}\">\n",
    "<b>f)</b>\n",
    "Ambos métodos es decir tanto ovr como multinomial arrojan un resultado similar, siendo ovr un poco mejor en la exactitud de las predicciones para el test set\n",
    "</p>"
   ]
  },
  {
   "cell_type": "markdown",
   "metadata": {},
   "source": [
    "<p style=\"font-size: 25px; line-height: 135%;}\">\n",
    "<b>Parte 3, pregunta m</b>\n",
    "</p>"
   ]
  },
  {
   "cell_type": "code",
   "execution_count": 48,
   "metadata": {
    "collapsed": false
   },
   "outputs": [
    {
     "name": "stderr",
     "output_type": "stream",
     "text": [
      "C:\\Users\\Daniel\\Anaconda3\\lib\\site-packages\\sklearn\\discriminant_analysis.py:387: UserWarning: Variables are collinear.\n",
      "  warnings.warn(\"Variables are collinear.\")\n"
     ]
    }
   ],
   "source": [
    "acc_train_all = list()\n",
    "acc_test_all = list()\n",
    "\n",
    "m_svm_ovr = OneVsRestClassifier(SVC())\n",
    "m_svm_ovr.fit(cv_train_2, df_train_2.iloc[:, 4])\n",
    "acc_train_all.append(m_svm_ovr.score(cv_train_2, df_train_2.iloc[:,4]))\n",
    "acc_test_all.append(m_svm_ovr.score(cv_test_2, df_test_2.iloc[:, 4]))\n",
    "\n",
    "m_svm_ovo = OneVsOneClassifier(SVC())\n",
    "m_svm_ovo.fit(cv_train_2, df_train_2.iloc[:, 4])\n",
    "acc_train_all.append(m_svm_ovo.score(cv_train_2, df_train_2.iloc[:,4]))\n",
    "acc_test_all.append(m_svm_ovo.score(cv_test_2, df_test_2.iloc[:, 4]))\n",
    "\n",
    "m_lr_ovr = LogisticRegression()\n",
    "m_lr_ovr.set_params(multi_class='ovr')\n",
    "m_lr_ovr.fit(cv_train_2.toarray(), df_train_2.iloc[:, 4])\n",
    "acc_train_all.append(m_lr_ovr.score(cv_train_2, df_train_2.iloc[:,4]))\n",
    "acc_test_all.append(m_lr_ovr.score(cv_test_2, df_test_2.iloc[:, 4]))\n",
    "\n",
    "m_lr_mul = LogisticRegression()\n",
    "m_lr_mul.set_params(multi_class='multinomial', solver='newton-cg')\n",
    "m_lr_mul.fit(cv_train_2.toarray(), df_train_2.iloc[:, 4])\n",
    "acc_train_all.append(m_lr_mul.score(cv_train_2, df_train_2.iloc[:,4]))\n",
    "acc_test_all.append(m_lr_mul.score(cv_test_2, df_test_2.iloc[:, 4]))\n",
    "\n",
    "m_mnb = BernoulliNB()\n",
    "m_mnb.fit(cv_train_2, df_train_2.iloc[:, 4])\n",
    "acc_train_all.append(m_mnb.score(cv_train_2, df_train_2.iloc[:,4]))\n",
    "acc_test_all.append(m_mnb.score(cv_test_2, df_test_2.iloc[:, 4]))\n",
    "\n",
    "m_lda = LinearDiscriminantAnalysis()\n",
    "m_lda.fit(cv_train_2.toarray(), df_train_2.iloc[:, 4])\n",
    "acc_train_all.append(m_lda.score(cv_train_2, df_train_2.iloc[:,4]))\n",
    "acc_test_all.append(m_lda.score(cv_test_2, df_test_2.iloc[:, 4]))\n"
   ]
  },
  {
   "cell_type": "code",
   "execution_count": 50,
   "metadata": {
    "collapsed": false
   },
   "outputs": [
    {
     "data": {
      "image/png": "[encoded data removed]",
      "text/plain": [
       "<matplotlib.figure.Figure at 0x2cb85ef0>"
      ]
     },
     "metadata": {},
     "output_type": "display_data"
    }
   ],
   "source": [
    "nom = list(['svm_ovr', 'svm_ovo', 'lr_ovr', 'lr_mul', 'bnb', 'lda'])\n",
    "pos = list(range(6))\n",
    "width = 0.25\n",
    "\n",
    "acc_train_all = np.array(acc_train_all)\n",
    "\n",
    "fig, ax = plt.subplots(figsize=(15,8))\n",
    "\n",
    "plt.bar(pos, acc_train_all, width)\n",
    "plt.bar([p + width for p in pos], acc_test_all, width)\n",
    "\n",
    "ax.set_ylabel('Accuracy')\n",
    "\n",
    "ax.set_xticks([p + width*0.5 for p in pos])\n",
    "ax.set_xticklabels(nom)\n",
    "\n",
    "plt.ylim([0,1])\n",
    "plt.legend(['Train acc', 'Test acc'], loc='upper left')\n",
    "plt.grid()\n",
    "\n",
    "plt.show()"
   ]
  },
  {
   "cell_type": "markdown",
   "metadata": {},
   "source": [
    "<p style=\"font-size: 18px; line-height: 135%;}\">\n",
    "<b>f)</b>\n",
    "Como ya se había visto anteriormente svm es la máquina que peor se comporta, mientras que las otras alcanzan cotas similares. El mejor resultado se obtiene de la máquina de regresión lineal entrenada con el metodo one-vs-rest. Si se tuviera que utilizar una máquina para clasificar polaridad/sentimientos en múltiples clases, lo mejor es hacer un preprocesamiento como el explicado anteriormente y utilizar una máquina de regresión logística extendida a múltiples clases, una de las ventajas es que se trata de una máquina de rápido entrenamiento y gran eficacia. Un criterio para elegir la máquina como se dijo anteriormente es el costo computacional y también se debe ser consiente de si la matriz es mal condicionada en los métodos de lda y qda.\n",
    "</p>"
   ]
  }
 ],
 "metadata": {
  "kernelspec": {
   "display_name": "Python 3",
   "language": "python",
   "name": "python3"
  },
  "language_info": {
   "codemirror_mode": {
    "name": "ipython",
    "version": 3
   },
   "file_extension": ".py",
   "mimetype": "text/x-python",
   "name": "python",
   "nbconvert_exporter": "python",
   "pygments_lexer": "ipython3",
   "version": "3.6.0"
  }
 },
 "nbformat": 4,
 "nbformat_minor": 2
}

{
 "cells": [
  {
   "cell_type": "markdown",
   "metadata": {},
   "source": [
    "<p style=\"font-size: 30px; line-height: 135%;}\">\n",
    "<b>3 Análisis de emociones en tweets</b>\n",
    "</p>"
   ]
  },
  {
   "cell_type": "code",
   "execution_count": 31,
   "metadata": {},
   "outputs": [],
   "source": [
    "import pandas as pd\n",
    "import numpy as np\n",
    "from collections import Counter\n",
    "import re\n",
    "import nltk\n",
    "#nltk.download('wordnet')\n",
    "from nltk.stem.wordnet import WordNetLemmatizer\n",
    "from nltk.corpus import stopwords\n",
    "from IPython.display import display"
   ]
  },
  {
   "cell_type": "markdown",
   "metadata": {},
   "source": [
    "<p style=\"font-size: 25px; line-height: 135%;}\">\n",
    "<b>Parte 3, pregunta a</b>\n",
    "</p>"
   ]
  },
  {
   "cell_type": "code",
   "execution_count": 32,
   "metadata": {},
   "outputs": [
    {
     "data": {
      "text/html": [
       "<div>\n",
       "<style>\n",
       "    .dataframe thead tr:only-child th {\n",
       "        text-align: right;\n",
       "    }\n",
       "\n",
       "    .dataframe thead th {\n",
       "        text-align: left;\n",
       "    }\n",
       "\n",
       "    .dataframe tbody tr th {\n",
       "        vertical-align: top;\n",
       "    }\n",
       "</style>\n",
       "<table border=\"1\" class=\"dataframe\">\n",
       "  <thead>\n",
       "    <tr style=\"text-align: right;\">\n",
       "      <th></th>\n",
       "      <th>tweet_id</th>\n",
       "      <th>sentiment</th>\n",
       "      <th>author</th>\n",
       "      <th>content</th>\n",
       "    </tr>\n",
       "  </thead>\n",
       "  <tbody>\n",
       "    <tr>\n",
       "      <th>0</th>\n",
       "      <td>1956967341</td>\n",
       "      <td>empty</td>\n",
       "      <td>xoshayzers</td>\n",
       "      <td>@tiffanylue i know  i was listenin to bad habit earlier and i started freakin at his part =[</td>\n",
       "    </tr>\n",
       "    <tr>\n",
       "      <th>1</th>\n",
       "      <td>1956967666</td>\n",
       "      <td>sadness</td>\n",
       "      <td>wannamama</td>\n",
       "      <td>Layin n bed with a headache  ughhhh...waitin on your call...</td>\n",
       "    </tr>\n",
       "    <tr>\n",
       "      <th>2</th>\n",
       "      <td>1956967696</td>\n",
       "      <td>sadness</td>\n",
       "      <td>coolfunky</td>\n",
       "      <td>Funeral ceremony...gloomy friday...</td>\n",
       "    </tr>\n",
       "    <tr>\n",
       "      <th>3</th>\n",
       "      <td>1956967789</td>\n",
       "      <td>enthusiasm</td>\n",
       "      <td>czareaquino</td>\n",
       "      <td>wants to hang out with friends SOON!</td>\n",
       "    </tr>\n",
       "    <tr>\n",
       "      <th>4</th>\n",
       "      <td>1956968416</td>\n",
       "      <td>neutral</td>\n",
       "      <td>xkilljoyx</td>\n",
       "      <td>@dannycastillo We want to trade with someone who has Houston tickets, but no one will.</td>\n",
       "    </tr>\n",
       "  </tbody>\n",
       "</table>\n",
       "</div>"
      ],
      "text/plain": [
       "     tweet_id   sentiment       author  \\\n",
       "0  1956967341       empty   xoshayzers   \n",
       "1  1956967666     sadness    wannamama   \n",
       "2  1956967696     sadness    coolfunky   \n",
       "3  1956967789  enthusiasm  czareaquino   \n",
       "4  1956968416     neutral    xkilljoyx   \n",
       "\n",
       "                                                                                        content  \n",
       "0  @tiffanylue i know  i was listenin to bad habit earlier and i started freakin at his part =[  \n",
       "1                                  Layin n bed with a headache  ughhhh...waitin on your call...  \n",
       "2                                                           Funeral ceremony...gloomy friday...  \n",
       "3                                                          wants to hang out with friends SOON!  \n",
       "4        @dannycastillo We want to trade with someone who has Houston tickets, but no one will.  "
      ]
     },
     "metadata": {},
     "output_type": "display_data"
    },
    {
     "name": "stdout",
     "output_type": "stream",
     "text": [
      "(40000, 4)\n",
      "Existen 13 clases\n",
      "Counter({'neutral': 8638, 'worry': 8459, 'happiness': 5209, 'sadness': 5165, 'love': 3842, 'surprise': 2187, 'fun': 1776, 'relief': 1526, 'hate': 1323, 'empty': 827, 'enthusiasm': 759, 'boredom': 179, 'anger': 110})\n"
     ]
    }
   ],
   "source": [
    "df = pd.read_csv('./text_emotion.csv')\n",
    "pd.options.display.max_colwidth = 150\n",
    "display(df.head(5))\n",
    "\n",
    "print(df.shape)\n",
    "print(\"Existen %i clases\" % len(set(df.iloc[:,1])))\n",
    "print(Counter(df.iloc[:,1]))"
   ]
  },
  {
   "cell_type": "markdown",
   "metadata": {},
   "source": [
    "<p style=\"font-size: 18px; line-height: 135%;}\">\n",
    "<b>a)</b>\n",
    "El dataset está compuesto por 40000 registros, cada registro que corresponde a un tweet contiene id, autor, contenido del tweet y una clase de sentiemiento.\n",
    "Existe un total de 13 clases.\n",
    "</p>"
   ]
  },
  {
   "cell_type": "markdown",
   "metadata": {},
   "source": [
    "<p style=\"font-size: 25px; line-height: 135%;}\">\n",
    "<b>Parte 3, pregunta c</b>\n",
    "</p>"
   ]
  },
  {
   "cell_type": "code",
   "execution_count": 33,
   "metadata": {},
   "outputs": [],
   "source": [
    "'''for i in range(len(df.index)):\n",
    "    df.ix[i,3] = df.iloc[i,3].lower()\n",
    "    df.ix[i,3] = re.sub('[^\\w]', ' ', df.iloc[i,3])\n",
    "    df.ix[i,3] = re.sub(r' +' ,' ', df.iloc[i,3])\n",
    "    df.ix[i,3] = re.sub(r'^ +' ,'', df.iloc[i,3])\n",
    "'''\n",
    "stops = set(stopwords.words('english'))\n",
    "split_content = [line.split() for line in df.iloc[:,3]]\n",
    "lemma = WordNetLemmatizer()\n",
    "for i in range(len(df.index)):\n",
    "    aux = [lemma.lemmatize(word) for word in split_content[i]]\n",
    "    df.iloc[i,3] = ' '.join([word for word in aux if word not in stops])"
   ]
  },
  {
   "cell_type": "markdown",
   "metadata": {},
   "source": [
    "<p style=\"font-size: 18px; line-height: 135%;}\">\n",
    "<b>c)</b>\n",
    "Para el preprocesamiento se eliminan puntuciones y simbolos, además de hacer una lematización para las palabras. Más adelante al crear 'bag of words' con la función countervectorizer se eliminan las palabras que aparecen menos de 5 veces en el total de tweet con el objeto de eliminar aquellas palabras mal escritas y nombres propios que no suelen repetirse y no tienen incidencia en la polaridad del tweet.\n",
    "</p>"
   ]
  },
  {
   "cell_type": "markdown",
   "metadata": {},
   "source": [
    "<p style=\"font-size: 25px; line-height: 135%;}\">\n",
    "<b>Parte 3, pregunta b y d</b>\n",
    "</p>"
   ]
  },
  {
   "cell_type": "code",
   "execution_count": 34,
   "metadata": {},
   "outputs": [],
   "source": [
    "df_feliz = df[(df['sentiment'] == 'happiness')].copy()\n",
    "df_triste = df[(df['sentiment'] == 'sadness')].copy()\n",
    "\n",
    "clase_feliz = [1 for x in range(len(df_feliz.index))]\n",
    "clase_triste = [-1 for x in range(len(df_triste.index))]\n",
    "\n",
    "clase_feliz = pd.Series(clase_feliz)\n",
    "clase_triste = pd.Series(clase_triste)\n",
    "\n",
    "df_feliz['clase'] = clase_feliz.values\n",
    "df_triste['clase'] = clase_triste.values\n",
    "\n",
    "df_train = pd.DataFrame(columns = df_feliz.columns)\n",
    "df_test = pd.DataFrame(columns = df_feliz.columns)\n",
    "\n",
    "msk = np.random.rand(len(df_feliz)) < 0.8\n",
    "df_train = df_train.append(df_feliz[msk], ignore_index=True)\n",
    "df_test = df_test.append(df_feliz[~msk], ignore_index=True)\n",
    "\n",
    "msk = np.random.rand(len(df_triste)) < 0.8\n",
    "df_train = df_train.append(df_triste[msk], ignore_index=True)\n",
    "df_test = df_test.append(df_triste[~msk], ignore_index=True)\n",
    "\n",
    "df_test['clase'] = df_test[\"clase\"].astype(int)\n",
    "df_train['clase'] = df_train[\"clase\"].astype(int)\n",
    "\n",
    "#display(df_test.head())"
   ]
  },
  {
   "cell_type": "code",
   "execution_count": 57,
   "metadata": {},
   "outputs": [
    {
     "data": {
      "text/plain": [
       "<matplotlib.figure.Figure at 0x7f863d72bb70>"
      ]
     },
     "metadata": {},
     "output_type": "display_data"
    },
    {
     "data": {
      "image/png": "[encoded data removed]",
      "text/plain": [
       "<matplotlib.figure.Figure at 0x7f863d72b908>"
      ]
     },
     "metadata": {},
     "output_type": "display_data"
    }
   ],
   "source": [
    "from sklearn.decomposition import PCA\n",
    "d=2\n",
    "pca_model = PCA(n_components=d)\n",
    "pca_model.fit(cv_train.toarray())\n",
    "X_pca_train = pca_model.transform(cv_train.toarray())\n",
    "\n",
    "#Se procede a gráficar los elementos\n",
    "plt.figure(figsize = (16, 9))\n",
    "\n",
    "for i in range(len(X_pca_train)):\n",
    "    if df_train.iloc[i,4] == -1:\n",
    "        p1 = plt.scatter(X_pca_train[i,0], X_pca_train[i,1], s=50, c = \"limegreen\")\n",
    "    elif df_train.iloc[i,4] == 1:\n",
    "        p2 = plt.scatter(X_pca_train[i,0], X_pca_train[i,1], s=50, c = \"red\")\n",
    "\n",
    "plt.legend([p1, p2], [\"Triste\", \"Feliz\"], prop={'size': 20})\n",
    "        \n",
    "plt.xlabel(\"$X1$\")\n",
    "plt.ylabel(\"$X2$\")\n",
    "plt.title(\"Proyección de la data de entrenamiento con PCA, $d = \"+str(d)+\"$\", size = 20)\n",
    "plt.show()"
   ]
  },
  {
   "cell_type": "markdown",
   "metadata": {},
   "source": [
    "<p style=\"font-size: 18px; line-height: 135%;}\">\n",
    "<b>b) y  d)</b>\n",
    "En esta parte para evitar el desbalanceo que podría generar una mala máquina en casos como las que corresponden a árboles, se toman solo dos clases que son las de felicidad y tristeza. Se usan solo estás dos clases ya que además de poseer casi la misma cantidad de datos son espcialmente útiles como clasificación binaria de positivo y negativo si se considera que tristeza puede traducirse como no felicidad, por otro lado es díficil incluir todas las 13 clases del dataset y clasificarlas de forma binaria ya que son sentimientos muy variados, además se tiene la clase neutral que no corresponde a una polaridad, es decir, no es una opinión/sentimiento si no que más bien corresponden a comentarios.\n",
    "</p>"
   ]
  },
  {
   "cell_type": "markdown",
   "metadata": {},
   "source": [
    "<p style=\"font-size: 25px; line-height: 135%;}\">\n",
    "<b>Parte 3, pregunta e</b>\n",
    "</p>"
   ]
  },
  {
   "cell_type": "code",
   "execution_count": 35,
   "metadata": {},
   "outputs": [],
   "source": [
    "from sklearn.feature_extraction.text import CountVectorizer\n",
    "cv = CountVectorizer(min_df = 5)\n",
    "cv_train = cv.fit_transform(df_train.iloc[:, 3])\n",
    "\n",
    "cv_test = cv.transform(df_test.iloc[:, 3])\n",
    "#print(cv.get_feature_names())"
   ]
  },
  {
   "cell_type": "markdown",
   "metadata": {},
   "source": [
    "<p style=\"font-size: 18px; line-height: 135%;}\">\n",
    "<b>e)</b>\n",
    "Para construir el modelo bag of words se utiliza la función CounterVectorizer incluida en el paquete sklearn, se incluye una tolerancia de palabras admitidas con un mínimo de 5 apariciones. Hacer lo anterior es importante por dos motivos, el primero es que así se evita incluir palabras que están mal escritas o nombres de cuentas de twitter citados en los mismo tweets, las cuales no tendrían una mayor incidencia en el resultado de las predicciones, además como segundo y resultado de eliminar estás palabras 'basura' se logra disminuir la dimensionalidad lo que se traduce en desempeño computacional de la máquina.\n",
    "</p>"
   ]
  },
  {
   "cell_type": "code",
   "execution_count": 36,
   "metadata": {},
   "outputs": [
    {
     "data": {
      "text/plain": [
       "<8283x1860 sparse matrix of type '<class 'numpy.int64'>'\n",
       "\twith 54574 stored elements in Compressed Sparse Row format>"
      ]
     },
     "metadata": {},
     "output_type": "display_data"
    }
   ],
   "source": [
    "display(cv_train)"
   ]
  },
  {
   "cell_type": "markdown",
   "metadata": {},
   "source": [
    "<p style=\"font-size: 25px; line-height: 135%;}\">\n",
    "<b>Parte 3, pregunta f y g</b>\n",
    "</p>"
   ]
  },
  {
   "cell_type": "code",
   "execution_count": 63,
   "metadata": {},
   "outputs": [
    {
     "data": {
      "text/plain": [
       "BernoulliNB(alpha=1.0, binarize=0.0, class_prior=None, fit_prior=True)"
      ]
     },
     "execution_count": 63,
     "metadata": {},
     "output_type": "execute_result"
    }
   ],
   "source": [
    "from sklearn.svm import SVC\n",
    "from sklearn.linear_model import LogisticRegression\n",
    "from sklearn.discriminant_analysis import QuadraticDiscriminantAnalysis\n",
    "from sklearn.discriminant_analysis import LinearDiscriminantAnalysis\n",
    "from sklearn.naive_bayes import MultinomialNB\n",
    "from sklearn.naive_bayes import BernoulliNB\n",
    "\n",
    "m_svm = SVC()\n",
    "m_svm.set_params(kernel = 'linear')\n",
    "\n",
    "m_svmRBF = SVC()\n",
    "m_svmRBF.set_params(kernel = 'rbf')\n",
    "\n",
    "verdad = df_train.iloc[:, 4]\n",
    "\n",
    "m_svm.fit(cv_train, verdad)\n",
    "m_svmRBF.fit(cv_train, verdad)\n",
    "\n",
    "m_lr = LogisticRegression()\n",
    "m_lr.fit(cv_train, verdad)\n",
    "\n",
    "m_qda = QuadraticDiscriminantAnalysis()\n",
    "#m_qda.fit(cv_train.toarray(), df_train.iloc[:, 4])\n",
    "\n",
    "m_lda = LinearDiscriminantAnalysis()\n",
    "m_lda.fit(cv_train.toarray(), verdad)\n",
    "\n",
    "m_mnb = MultinomialNB()\n",
    "m_mnb.fit(cv_train, verdad)\n",
    "\n",
    "m_bnb = BernoulliNB()\n",
    "m_bnb.fit(cv_train, verdad)"
   ]
  },
  {
   "cell_type": "code",
   "execution_count": 38,
   "metadata": {
    "collapsed": true
   },
   "outputs": [],
   "source": [
    "from sklearn.metrics import classification_report\n",
    "def score_the_model(model,x,y,xt,yt):\n",
    "    acc_tr = model.score(x,y)\n",
    "    acc_test = model.score(xt[:-1],yt[:-1])\n",
    "    print(\"Training Accuracy: %f\" % (acc_tr))\n",
    "    print(\"Test Accuracy: %f\" % (acc_test))\n",
    "    print(\"Detailed Analysis Testing Results ...\")\n",
    "    print(classification_report(yt, model.predict(xt), target_names=['+','-']))\n",
    "    acc_train_all.append(acc_tr)\n",
    "    acc_test_all.append(acc_test)"
   ]
  },
  {
   "cell_type": "code",
   "execution_count": 39,
   "metadata": {},
   "outputs": [
    {
     "name": "stdout",
     "output_type": "stream",
     "text": [
      "SVC(C=1.0, cache_size=200, class_weight=None, coef0=0.0,\n",
      "  decision_function_shape='ovr', degree=3, gamma='auto', kernel='rbf',\n",
      "  max_iter=-1, probability=False, random_state=None, shrinking=True,\n",
      "  tol=0.001, verbose=False)\n"
     ]
    }
   ],
   "source": [
    "print(m_svm)"
   ]
  },
  {
   "cell_type": "code",
   "execution_count": 64,
   "metadata": {
    "scrolled": true
   },
   "outputs": [
    {
     "name": "stdout",
     "output_type": "stream",
     "text": [
      "Training Accuracy: 0.594350\n",
      "Test Accuracy: 0.582297\n",
      "Detailed Analysis Testing Results ...\n",
      "             precision    recall  f1-score   support\n",
      "\n",
      "          +       0.91      0.18      0.31      1046\n",
      "          -       0.55      0.98      0.70      1045\n",
      "\n",
      "avg / total       0.73      0.58      0.50      2091\n",
      "\n",
      "Training Accuracy: 0.890499\n",
      "Test Accuracy: 0.787081\n",
      "Detailed Analysis Testing Results ...\n",
      "             precision    recall  f1-score   support\n",
      "\n",
      "          +       0.79      0.78      0.78      1046\n",
      "          -       0.78      0.80      0.79      1045\n",
      "\n",
      "avg / total       0.79      0.79      0.79      2091\n",
      "\n",
      "Training Accuracy: 0.879271\n",
      "Test Accuracy: 0.793780\n",
      "Detailed Analysis Testing Results ...\n",
      "             precision    recall  f1-score   support\n",
      "\n",
      "          +       0.81      0.77      0.79      1046\n",
      "          -       0.78      0.81      0.80      1045\n",
      "\n",
      "avg / total       0.79      0.79      0.79      2091\n",
      "\n",
      "Training Accuracy: 0.879150\n",
      "Test Accuracy: 0.759809\n",
      "Detailed Analysis Testing Results ...\n",
      "             precision    recall  f1-score   support\n",
      "\n",
      "          +       0.77      0.74      0.75      1046\n",
      "          -       0.75      0.78      0.76      1045\n",
      "\n",
      "avg / total       0.76      0.76      0.76      2091\n",
      "\n",
      "Training Accuracy: 0.845346\n",
      "Test Accuracy: 0.791866\n",
      "Detailed Analysis Testing Results ...\n",
      "             precision    recall  f1-score   support\n",
      "\n",
      "          +       0.80      0.78      0.79      1046\n",
      "          -       0.79      0.80      0.79      1045\n",
      "\n",
      "avg / total       0.79      0.79      0.79      2091\n",
      "\n",
      "Training Accuracy: 0.846674\n",
      "Test Accuracy: 0.789952\n",
      "Detailed Analysis Testing Results ...\n",
      "             precision    recall  f1-score   support\n",
      "\n",
      "          +       0.79      0.78      0.79      1046\n",
      "          -       0.79      0.80      0.79      1045\n",
      "\n",
      "avg / total       0.79      0.79      0.79      2091\n",
      "\n"
     ]
    }
   ],
   "source": [
    "acc_train_all = list()\n",
    "acc_test_all = list()\n",
    "\n",
    "score_the_model(m_svmRBF, cv_train, df_train.iloc[:,4], cv_test, df_test.iloc[:,4])\n",
    "score_the_model(m_svm, cv_train, df_train.iloc[:,4], cv_test, df_test.iloc[:,4])\n",
    "score_the_model(m_lr, cv_train, df_train.iloc[:,4], cv_test, df_test.iloc[:,4])\n",
    "score_the_model(m_lda, cv_train, df_train.iloc[:,4], cv_test, df_test.iloc[:,4])\n",
    "score_the_model(m_mnb, cv_train, df_train.iloc[:,4], cv_test, df_test.iloc[:,4])\n",
    "score_the_model(m_bnb, cv_train, df_train.iloc[:,4], cv_test, df_test.iloc[:,4])\n"
   ]
  },
  {
   "cell_type": "code",
   "execution_count": 65,
   "metadata": {},
   "outputs": [
    {
     "data": {
      "image/png": "[encoded data removed]",
      "text/plain": [
       "<matplotlib.figure.Figure at 0x7f8626988f28>"
      ]
     },
     "metadata": {},
     "output_type": "display_data"
    }
   ],
   "source": [
    "import matplotlib.pyplot as plt\n",
    "\n",
    "nom = list(['svm (RBF)','svm (lineal)', 'lr', 'lda', 'mnb', 'bnb'])\n",
    "pos = list(range(6))\n",
    "width = 0.25\n",
    "\n",
    "acc_train_all = np.array(acc_train_all)\n",
    "\n",
    "fig, ax = plt.subplots(figsize=(15,8))\n",
    "\n",
    "plt.bar(pos, acc_train_all, width)\n",
    "plt.bar([p + width for p in pos], acc_test_all, width)\n",
    "\n",
    "ax.set_ylabel('Accuracy')\n",
    "\n",
    "ax.set_xticks([p + width*0.5 for p in pos])\n",
    "ax.set_xticklabels(nom)\n",
    "\n",
    "plt.ylim([0,1])\n",
    "plt.legend(['Train acc', 'Test acc'], loc='upper left')\n",
    "plt.grid()\n",
    "\n",
    "plt.show()"
   ]
  },
  {
   "cell_type": "markdown",
   "metadata": {},
   "source": [
    "<p style=\"font-size: 18px; line-height: 135%;}\">\n",
    "<b>f)</b>\n",
    "De los modelos utilizados con sus parámetros por defecto, el que presenta un peor comportamiento es SVM, mientras que el resto de las 4 máquinas tienen un desempeño similar alcanzando una cota para la exactitud que llega al 80%.\n",
    "</p>"
   ]
  },
  {
   "cell_type": "markdown",
   "metadata": {},
   "source": [
    "<p style=\"font-size: 18px; line-height: 135%;}\">\n",
    "<b>g)</b>\n",
    "Las métricas corresponden a:<br>\n",
    "Accuracy: Es la exactitud, es decir, los resultados que fueron correctos sobre el total de resultados. \n",
    "<br><br>\n",
    "Precision: La precision se refiere a la relación de verdaderos positivos sobre la clase positiva. Por ejemplo para el caso de la clase positiva, la métrica evaluará todos los resultados correctos de la clase positiva todos los resuldos predichos de clase positiva independiente de si fueron correctos.\n",
    "<br><br>\n",
    "Recall: Similar a precision, hace referencia a la relación de verdaderos positivos sobre el total de verdaderos positivos y falsos negativos. Por ejemplo para el caso de la clase positiva, la métrica evaluará todos los resultados correctos de la clase positiva sobre la cantidad de resultados correctos posibles.\n",
    "<br><br>\n",
    "F1-Score: Métrica desde 0 a 1, siendo 1 el mejor. Es una relación mesurada que incluye precision y recall.\n",
    "</p>"
   ]
  },
  {
   "cell_type": "markdown",
   "metadata": {},
   "source": [
    "<p style=\"font-size: 25px; line-height: 135%;}\">\n",
    "<b>Parte 3, pregunta i</b>\n",
    "</p>"
   ]
  },
  {
   "cell_type": "code",
   "execution_count": 42,
   "metadata": {},
   "outputs": [],
   "source": [
    "df_neutral = df[(df['sentiment'] == 'neutral')].copy()\n",
    "df_worry = df[(df['sentiment'] == 'worry')].copy()\n",
    "df_happiness = df[(df['sentiment'] == 'happiness')].copy()\n",
    "df_sadness = df[(df['sentiment'] == 'sadness')].copy()\n",
    "df_love = df[(df['sentiment'] == 'love')].copy()\n",
    "df_surprise = df[(df['sentiment'] == 'surprise')].copy()\n",
    "df_fun = df[(df['sentiment'] == 'fun')].copy()\n",
    "df_relief = df[(df['sentiment'] == 'relief')].copy()\n",
    "df_hate = df[(df['sentiment'] == 'hate')].copy()\n",
    "df_empty = df[(df['sentiment'] == 'empty')].copy()\n",
    "df_enthusiasm = df[(df['sentiment'] == 'enthusiasm')].copy()\n",
    "df_boredom = df[(df['sentiment'] == 'boredom')].copy()\n",
    "df_anger = df[(df['sentiment'] == 'anger')].copy()\n",
    "\n",
    "clase_neutral = [0 for x in range(len(df_neutral.index))]\n",
    "clase_worry = [1 for x in range(len(df_worry.index))]\n",
    "clase_happiness = [2 for x in range(len(df_happiness.index))]\n",
    "clase_sadness = [3 for x in range(len(df_sadness.index))]\n",
    "clase_love = [4 for x in range(len(df_love.index))]\n",
    "clase_surprise = [5 for x in range(len(df_surprise.index))]\n",
    "clase_fun = [6 for x in range(len(df_fun.index))]\n",
    "clase_relief = [7 for x in range(len(df_relief.index))]\n",
    "clase_hate = [8 for x in range(len(df_hate.index))]\n",
    "clase_empty = [9 for x in range(len(df_empty.index))]\n",
    "clase_enthusiasm = [10 for x in range(len(df_enthusiasm.index))]\n",
    "clase_boredom = [11 for x in range(len(df_boredom.index))]\n",
    "clase_anger = [12 for x in range(len(df_anger.index))]\n",
    "\n",
    "clase_neutral = pd.Series(clase_neutral)\n",
    "clase_worry = pd.Series(clase_worry)\n",
    "clase_happiness = pd.Series(clase_happiness)\n",
    "clase_sadness = pd.Series(clase_sadness)\n",
    "clase_love = pd.Series(clase_love)\n",
    "clase_surprise = pd.Series(clase_surprise)\n",
    "clase_fun = pd.Series(clase_fun)\n",
    "clase_relief = pd.Series(clase_relief)\n",
    "clase_hate = pd.Series(clase_hate)\n",
    "clase_empty = pd.Series(clase_empty)\n",
    "clase_enthusiasm = pd.Series(clase_enthusiasm)\n",
    "clase_boredom = pd.Series(clase_boredom)\n",
    "clase_anger = pd.Series(clase_anger)\n",
    "\n",
    "df_neutral['clase'] = clase_neutral.values\n",
    "df_worry['clase'] = clase_worry.values\n",
    "df_happiness['clase'] = clase_happiness.values\n",
    "df_sadness['clase'] = clase_sadness.values\n",
    "df_love['clase'] = clase_love.values\n",
    "df_surprise['clase'] = clase_surprise.values\n",
    "df_fun['clase'] = clase_fun.values\n",
    "df_relief['clase'] = clase_relief.values\n",
    "df_hate['clase'] = clase_hate.values\n",
    "df_empty['clase'] = clase_empty.values\n",
    "df_enthusiasm['clase'] = clase_enthusiasm.values\n",
    "df_boredom['clase'] = clase_boredom.values\n",
    "df_anger['clase'] = clase_anger.values\n",
    "\n",
    "df_train_2 = pd.DataFrame(columns = df_neutral.columns)\n",
    "df_test_2 = pd.DataFrame(columns = df_neutral.columns)\n",
    "\n",
    "msk = np.random.rand(len(df_neutral)) < 0.8\n",
    "df_train_2 = df_train.append(df_neutral[msk], ignore_index=True)\n",
    "df_test_2 = df_test.append(df_neutral[~msk], ignore_index=True)\n",
    "\n",
    "msk = np.random.rand(len(df_worry)) < 0.8\n",
    "df_train_2 = df_train.append(df_worry[msk], ignore_index=True)\n",
    "df_test_2 = df_test.append(df_worry[~msk], ignore_index=True)\n",
    "\n",
    "msk = np.random.rand(len(df_happiness)) < 0.8\n",
    "df_train_2 = df_train.append(df_happiness[msk], ignore_index=True)\n",
    "df_test_2 = df_test.append(df_happiness[~msk], ignore_index=True)\n",
    "\n",
    "msk = np.random.rand(len(df_sadness)) < 0.8\n",
    "df_train_2 = df_train.append(df_sadness[msk], ignore_index=True)\n",
    "df_test_2 = df_test.append(df_sadness[~msk], ignore_index=True)\n",
    "\n",
    "msk = np.random.rand(len(df_love)) < 0.8\n",
    "df_train_2 = df_train.append(df_love[msk], ignore_index=True)\n",
    "df_test_2 = df_test.append(df_love[~msk], ignore_index=True)\n",
    "\n",
    "msk = np.random.rand(len(df_surprise)) < 0.8\n",
    "df_train_2 = df_train.append(df_surprise[msk], ignore_index=True)\n",
    "df_test_2 = df_test.append(df_surprise[~msk], ignore_index=True)\n",
    "\n",
    "msk = np.random.rand(len(df_fun)) < 0.8\n",
    "df_train_2 = df_train.append(df_fun[msk], ignore_index=True)\n",
    "df_test_2 = df_test.append(df_fun[~msk], ignore_index=True)\n",
    "\n",
    "msk = np.random.rand(len(df_relief)) < 0.8\n",
    "df_train_2 = df_train.append(df_relief[msk], ignore_index=True)\n",
    "df_test_2 = df_test.append(df_relief[~msk], ignore_index=True)\n",
    "\n",
    "msk = np.random.rand(len(df_hate)) < 0.8\n",
    "df_train_2 = df_train.append(df_hate[msk], ignore_index=True)\n",
    "df_test_2 = df_test.append(df_hate[~msk], ignore_index=True)\n",
    "\n",
    "msk = np.random.rand(len(df_empty)) < 0.8\n",
    "df_train_2 = df_train.append(df_empty[msk], ignore_index=True)\n",
    "df_test_2 = df_test.append(df_empty[~msk], ignore_index=True)\n",
    "\n",
    "msk = np.random.rand(len(df_enthusiasm)) < 0.8\n",
    "df_train_2 = df_train.append(df_enthusiasm[msk], ignore_index=True)\n",
    "df_test_2 = df_test.append(df_enthusiasm[~msk], ignore_index=True)\n",
    "\n",
    "msk = np.random.rand(len(df_boredom)) < 0.8\n",
    "df_train_2 = df_train.append(df_boredom[msk], ignore_index=True)\n",
    "df_test_2 = df_test.append(df_boredom[~msk], ignore_index=True)\n",
    "\n",
    "msk = np.random.rand(len(df_anger)) < 0.8\n",
    "df_train_2 = df_train.append(df_anger[msk], ignore_index=True)\n",
    "df_test_2 = df_test.append(df_anger[~msk], ignore_index=True)\n",
    "\n",
    "df_train_2[\"clase\"] = df_train_2[\"clase\"].astype(int)\n",
    "df_test_2[\"clase\"] = df_test_2[\"clase\"].astype(int)"
   ]
  },
  {
   "cell_type": "markdown",
   "metadata": {},
   "source": [
    "<p style=\"font-size: 18px; line-height: 135%;}\">\n",
    "<b>h)</b>\n",
    "Igual que de la forma anterior se divide el set de tal forma que la cantidad de elementos de cierta clase que quedan en el test set es equitativa a la que queda en el trainig set.\n",
    "</p>"
   ]
  },
  {
   "cell_type": "markdown",
   "metadata": {},
   "source": [
    "<p style=\"font-size: 25px; line-height: 135%;}\">\n",
    "<b>Parte 3, pregunta j</b>\n",
    "</p>"
   ]
  },
  {
   "cell_type": "code",
   "execution_count": 43,
   "metadata": {},
   "outputs": [],
   "source": [
    "cv = CountVectorizer(min_df = 5)\n",
    "cv_train_2 = cv.fit_transform(df_train_2.iloc[:, 3])\n",
    "cv_test_2 = cv.transform(df_test_2.iloc[:, 3])\n",
    "\n",
    "acc_train_all = list()\n",
    "acc_test_all = list()\n",
    "\n",
    "m_mnb = BernoulliNB()\n",
    "m_mnb.fit(cv_train_2, df_train_2.iloc[:, 4])\n",
    "acc_train_all.append(m_mnb.score(cv_train_2, df_train_2.iloc[:,4]))\n",
    "acc_test_all.append(m_mnb.score(cv_test_2, df_test_2.iloc[:, 4]))\n",
    "\n",
    "m_lda = LinearDiscriminantAnalysis()\n",
    "m_lda.fit(cv_train_2.toarray(), df_train_2.iloc[:, 4])\n",
    "acc_train_all.append(m_lda.score(cv_train_2, df_train_2.iloc[:,4]))\n",
    "acc_test_all.append(m_lda.score(cv_test_2, df_test_2.iloc[:, 4]))\n",
    "\n",
    "m_lr = LogisticRegression()\n",
    "m_lr.set_params(multi_class='multinomial', solver='newton-cg')\n",
    "m_lr.fit(cv_train_2.toarray(), df_train_2.iloc[:, 4])\n",
    "acc_train_all.append(m_lr.score(cv_train_2, df_train_2.iloc[:,4]))\n",
    "acc_test_all.append(m_lr.score(cv_test_2, df_test_2.iloc[:, 4]))"
   ]
  },
  {
   "cell_type": "code",
   "execution_count": 44,
   "metadata": {},
   "outputs": [
    {
     "name": "stdout",
     "output_type": "stream",
     "text": [
      "[0.83801218492414287, 0.87014693584995817, 0.87862859873372356]\n"
     ]
    }
   ],
   "source": [
    "print(acc_train_all)"
   ]
  },
  {
   "cell_type": "code",
   "execution_count": 45,
   "metadata": {},
   "outputs": [
    {
     "name": "stdout",
     "output_type": "stream",
     "text": [
      "[0.83801218492414287, 0.87014693584995817, 0.87862859873372356]\n"
     ]
    }
   ],
   "source": [
    "print(acc_train_all)"
   ]
  },
  {
   "cell_type": "code",
   "execution_count": 46,
   "metadata": {},
   "outputs": [
    {
     "data": {
      "image/png": "[encoded data removed]",
      "text/plain": [
       "<matplotlib.figure.Figure at 0x7f863deef588>"
      ]
     },
     "metadata": {},
     "output_type": "display_data"
    }
   ],
   "source": [
    "import matplotlib.pyplot as plt\n",
    "\n",
    "nom = list(['bnb', 'lda', 'lr'])\n",
    "pos = list(range(3))\n",
    "width = 0.25\n",
    "\n",
    "acc_train_all = np.array(acc_train_all)\n",
    "\n",
    "fig, ax = plt.subplots(figsize=(15,8))\n",
    "\n",
    "plt.bar(pos, acc_train_all, width)\n",
    "plt.bar([p + width for p in pos], acc_test_all, width)\n",
    "\n",
    "ax.set_ylabel('Accuracy')\n",
    "\n",
    "ax.set_xticks([p + width*0.5 for p in pos])\n",
    "ax.set_xticklabels(nom)\n",
    "\n",
    "plt.ylim([0,1])\n",
    "plt.legend(['Train acc', 'Test acc'], loc='upper left')\n",
    "plt.grid()\n",
    "\n",
    "plt.show()"
   ]
  },
  {
   "cell_type": "markdown",
   "metadata": {},
   "source": [
    "<p style=\"font-size: 18px; line-height: 135%;}\">\n",
    "<b>j)</b>\n",
    "Para este caso donde se trabaja con multiples clases, se utilizan 3 diferentes máquinas las cuales entregan un resultado similar a cuando se trabajo de forma binaria.\n",
    "</p>"
   ]
  },
  {
   "cell_type": "markdown",
   "metadata": {},
   "source": [
    "<p style=\"font-size: 25px; line-height: 135%;}\">\n",
    "<b>Parte 3, pregunta k</b>\n",
    "</p>"
   ]
  },
  {
   "cell_type": "code",
   "execution_count": 47,
   "metadata": {},
   "outputs": [],
   "source": [
    "from sklearn.multiclass import OneVsRestClassifier\n",
    "from sklearn.multiclass import OneVsOneClassifier\n",
    "\n",
    "acc_train_all = list()\n",
    "acc_test_all = list()\n",
    "\n",
    "m_svm_ovr = OneVsRestClassifier(SVC())\n",
    "m_svm_ovr.fit(cv_train_2, df_train_2.iloc[:, 4])\n",
    "acc_train_all.append(m_svm_ovr.score(cv_train_2, df_train_2.iloc[:,4]))\n",
    "acc_test_all.append(m_svm_ovr.score(cv_test_2, df_test_2.iloc[:, 4]))\n",
    "\n",
    "m_svm_ovo = OneVsOneClassifier(SVC())\n",
    "m_svm_ovo.fit(cv_train_2, df_train_2.iloc[:, 4])\n",
    "acc_train_all.append(m_svm_ovo.score(cv_train_2, df_train_2.iloc[:,4]))\n",
    "acc_test_all.append(m_svm_ovo.score(cv_test_2, df_test_2.iloc[:, 4]))"
   ]
  },
  {
   "cell_type": "code",
   "execution_count": 48,
   "metadata": {},
   "outputs": [
    {
     "data": {
      "image/png": "[encoded data removed]",
      "text/plain": [
       "<matplotlib.figure.Figure at 0x7f863d9ee588>"
      ]
     },
     "metadata": {},
     "output_type": "display_data"
    }
   ],
   "source": [
    "nom = list(['svm_ovr', 'svm_ovo'])\n",
    "pos = list(range(2))\n",
    "width = 0.25\n",
    "\n",
    "acc_train_all = np.array(acc_train_all)\n",
    "\n",
    "fig, ax = plt.subplots(figsize=(15,8))\n",
    "\n",
    "plt.bar(pos, acc_train_all, width)\n",
    "plt.bar([p + width for p in pos], acc_test_all, width)\n",
    "\n",
    "ax.set_ylabel('Accuracy')\n",
    "\n",
    "ax.set_xticks([p + width*0.5 for p in pos])\n",
    "ax.set_xticklabels(nom)\n",
    "\n",
    "plt.ylim([0,1])\n",
    "plt.legend(['Train acc', 'Test acc'], loc='upper left')\n",
    "plt.grid()\n",
    "\n",
    "plt.show()"
   ]
  },
  {
   "cell_type": "markdown",
   "metadata": {},
   "source": [
    "<p style=\"font-size: 18px; line-height: 135%;}\">\n",
    "<b>k)</b>\n",
    "Al utilizar svm para múltiples clases extendido mediante los métodos de ovr y ovo, se da cuenta que el comportamiento es peor que los módelos evaluados anterioremente. Cuando se utiliza one-vs-one se obtienen peores resultados que con one-vs-rest, el aloritmo ovo tiene un gran costo computacional ya que se construye una máquina para cada par de clases.\n",
    "</p>"
   ]
  },
  {
   "cell_type": "markdown",
   "metadata": {},
   "source": [
    "<p style=\"font-size: 25px; line-height: 135%;}\">\n",
    "<b>Parte 3, pregunta l\n",
    "</b>\n",
    "</p>"
   ]
  },
  {
   "cell_type": "code",
   "execution_count": 49,
   "metadata": {
    "collapsed": true
   },
   "outputs": [],
   "source": [
    "acc_train_all = list()\n",
    "acc_test_all = list()\n",
    "\n",
    "m_lr_ovr = LogisticRegression()\n",
    "m_lr_ovr.set_params(multi_class='ovr')\n",
    "m_lr_ovr.fit(cv_train_2.toarray(), df_train_2.iloc[:, 4])\n",
    "acc_train_all.append(m_lr_ovr.score(cv_train_2, df_train_2.iloc[:,4]))\n",
    "acc_test_all.append(m_lr_ovr.score(cv_test_2, df_test_2.iloc[:, 4]))\n",
    "\n",
    "m_lr_mul = LogisticRegression()\n",
    "m_lr_mul.set_params(multi_class='multinomial', solver='newton-cg')\n",
    "m_lr_mul.fit(cv_train_2.toarray(), df_train_2.iloc[:, 4])\n",
    "acc_train_all.append(m_lr_mul.score(cv_train_2, df_train_2.iloc[:,4]))\n",
    "acc_test_all.append(m_lr_mul.score(cv_test_2, df_test_2.iloc[:, 4]))"
   ]
  },
  {
   "cell_type": "code",
   "execution_count": 50,
   "metadata": {},
   "outputs": [
    {
     "data": {
      "image/png": "[encoded data removed]",
      "text/plain": [
       "<matplotlib.figure.Figure at 0x7f863da58b38>"
      ]
     },
     "metadata": {},
     "output_type": "display_data"
    }
   ],
   "source": [
    "nom = list(['lr_ovr', 'lr_mul'])\n",
    "pos = list(range(2))\n",
    "width = 0.25\n",
    "\n",
    "acc_train_all = np.array(acc_train_all)\n",
    "\n",
    "fig, ax = plt.subplots(figsize=(15,8))\n",
    "\n",
    "plt.bar(pos, acc_train_all, width)\n",
    "plt.bar([p + width for p in pos], acc_test_all, width)\n",
    "\n",
    "ax.set_ylabel('Accuracy')\n",
    "\n",
    "ax.set_xticks([p + width*0.5 for p in pos])\n",
    "ax.set_xticklabels(nom)\n",
    "\n",
    "plt.ylim([0,1])\n",
    "plt.legend(['Train acc', 'Test acc'], loc='upper left')\n",
    "plt.grid()\n",
    "\n",
    "plt.show()"
   ]
  },
  {
   "cell_type": "markdown",
   "metadata": {},
   "source": [
    "<p style=\"font-size: 18px; line-height: 135%;}\">\n",
    "<b>f)</b>\n",
    "Ambos métodos es decir tanto ovr como multinomial arrojan un resultado similar, siendo ovr un poco mejor en la exactitud de las predicciones para el test set\n",
    "</p>"
   ]
  },
  {
   "cell_type": "markdown",
   "metadata": {},
   "source": [
    "<p style=\"font-size: 25px; line-height: 135%;}\">\n",
    "<b>Parte 3, pregunta m</b>\n",
    "</p>"
   ]
  },
  {
   "cell_type": "code",
   "execution_count": 51,
   "metadata": {},
   "outputs": [],
   "source": [
    "acc_train_all = list()\n",
    "acc_test_all = list()\n",
    "\n",
    "m_svm_ovr = OneVsRestClassifier(SVC())\n",
    "m_svm_ovr.fit(cv_train_2, df_train_2.iloc[:, 4])\n",
    "acc_train_all.append(m_svm_ovr.score(cv_train_2, df_train_2.iloc[:,4]))\n",
    "acc_test_all.append(m_svm_ovr.score(cv_test_2, df_test_2.iloc[:, 4]))\n",
    "\n",
    "m_svm_ovo = OneVsOneClassifier(SVC())\n",
    "m_svm_ovo.fit(cv_train_2, df_train_2.iloc[:, 4])\n",
    "acc_train_all.append(m_svm_ovo.score(cv_train_2, df_train_2.iloc[:,4]))\n",
    "acc_test_all.append(m_svm_ovo.score(cv_test_2, df_test_2.iloc[:, 4]))\n",
    "\n",
    "m_lr_ovr = LogisticRegression()\n",
    "m_lr_ovr.set_params(multi_class='ovr')\n",
    "m_lr_ovr.fit(cv_train_2.toarray(), df_train_2.iloc[:, 4])\n",
    "acc_train_all.append(m_lr_ovr.score(cv_train_2, df_train_2.iloc[:,4]))\n",
    "acc_test_all.append(m_lr_ovr.score(cv_test_2, df_test_2.iloc[:, 4]))\n",
    "\n",
    "m_lr_mul = LogisticRegression()\n",
    "m_lr_mul.set_params(multi_class='multinomial', solver='newton-cg')\n",
    "m_lr_mul.fit(cv_train_2.toarray(), df_train_2.iloc[:, 4])\n",
    "acc_train_all.append(m_lr_mul.score(cv_train_2, df_train_2.iloc[:,4]))\n",
    "acc_test_all.append(m_lr_mul.score(cv_test_2, df_test_2.iloc[:, 4]))\n",
    "\n",
    "m_mnb = BernoulliNB()\n",
    "m_mnb.fit(cv_train_2, df_train_2.iloc[:, 4])\n",
    "acc_train_all.append(m_mnb.score(cv_train_2, df_train_2.iloc[:,4]))\n",
    "acc_test_all.append(m_mnb.score(cv_test_2, df_test_2.iloc[:, 4]))\n",
    "\n",
    "m_lda = LinearDiscriminantAnalysis()\n",
    "m_lda.fit(cv_train_2.toarray(), df_train_2.iloc[:, 4])\n",
    "acc_train_all.append(m_lda.score(cv_train_2, df_train_2.iloc[:,4]))\n",
    "acc_test_all.append(m_lda.score(cv_test_2, df_test_2.iloc[:, 4]))\n"
   ]
  },
  {
   "cell_type": "code",
   "execution_count": 52,
   "metadata": {},
   "outputs": [
    {
     "data": {
      "image/png": "[encoded data removed]",
      "text/plain": [
       "<matplotlib.figure.Figure at 0x7f863dad89e8>"
      ]
     },
     "metadata": {},
     "output_type": "display_data"
    }
   ],
   "source": [
    "nom = list(['svm_ovr', 'svm_ovo', 'lr_ovr', 'lr_mul', 'bnb', 'lda'])\n",
    "pos = list(range(6))\n",
    "width = 0.25\n",
    "\n",
    "acc_train_all = np.array(acc_train_all)\n",
    "\n",
    "fig, ax = plt.subplots(figsize=(15,8))\n",
    "\n",
    "plt.bar(pos, acc_train_all, width)\n",
    "plt.bar([p + width for p in pos], acc_test_all, width)\n",
    "\n",
    "ax.set_ylabel('Accuracy')\n",
    "\n",
    "ax.set_xticks([p + width*0.5 for p in pos])\n",
    "ax.set_xticklabels(nom)\n",
    "\n",
    "plt.ylim([0,1])\n",
    "plt.legend(['Train acc', 'Test acc'], loc='upper left')\n",
    "plt.grid()\n",
    "\n",
    "plt.show()"
   ]
  },
  {
   "cell_type": "markdown",
   "metadata": {},
   "source": [
    "<p style=\"font-size: 18px; line-height: 135%;}\">\n",
    "<b>f)</b>\n",
    "Como ya se había visto anteriormente svm es la máquina que peor se comporta, mientras que las otras alcanzan cotas similares. El mejor resultado se obtiene de la máquina de regresión lineal entrenada con el metodo one-vs-rest. Si se tuviera que utilizar una máquina para clasificar polaridad/sentimientos, lo mejor es hacer un preprocesamiento como el explicado anteriormente y utilizar una máquina de regresión logística extendida a múltiples clases, una de las ventajas es que se trata de una máquina de rápido entrenamiento y gran eficacia.\n",
    "</p>"
   ]
  },
  {
   "cell_type": "markdown",
   "metadata": {},
   "source": []
  }
 ],
 "metadata": {
  "kernelspec": {
   "display_name": "Python 3",
   "language": "python",
   "name": "python3"
  },
  "language_info": {
   "codemirror_mode": {
    "name": "ipython",
    "version": 3
   },
   "file_extension": ".py",
   "mimetype": "text/x-python",
   "name": "python",
   "nbconvert_exporter": "python",
   "pygments_lexer": "ipython3",
   "version": "3.6.3"
  }
 },
 "nbformat": 4,
 "nbformat_minor": 2
}
